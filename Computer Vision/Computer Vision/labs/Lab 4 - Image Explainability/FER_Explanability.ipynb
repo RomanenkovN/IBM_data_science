{
 "cells": [
  {
   "cell_type": "markdown",
   "metadata": {},
   "source": [
    "<img src=\"https://github.com/pmservice/ai-openscale-tutorials/raw/master/notebooks/images/banner.png\" align=\"left\" alt=\"banner\">"
   ]
  },
  {
   "cell_type": "markdown",
   "metadata": {},
   "source": [
    "# Tutorial on generating an explanation for an image-based model on Watson OpenScale"
   ]
  },
  {
   "cell_type": "markdown",
   "metadata": {},
   "source": [
    "This notebook includes steps for creating an image-based watson-machine-learning model, creating a subscription, configuring explainability, and finally generating an explanation for a transaction."
   ]
  },
  {
   "cell_type": "markdown",
   "metadata": {},
   "source": [
    "### Contents\n",
    "- [1. Setup](#setup)\n",
    "- [2. Creating and deploying an image-based model](#deployment)\n",
    "- [3. Subscriptions](#subscription)\n",
    "- [4. Explainability](#explainability)"
   ]
  },
  {
   "cell_type": "markdown",
   "metadata": {},
   "source": [
    "**Note**: If using Watson Studio, try running the notebook on at least 'Default Python 3.5 S' version for faster results (vs Python XS)."
   ]
  },
  {
   "cell_type": "markdown",
   "metadata": {},
   "source": [
    "<a id=\"setup\"></a>\n",
    "## 1. Setup\n",
    "\n",
    "### 1.1 Install Watson OpenScale and WML packages"
   ]
  },
  {
   "cell_type": "code",
   "execution_count": 1,
   "metadata": {},
   "outputs": [
    {
     "name": "stdout",
     "output_type": "stream",
     "text": [
      "Requirement already satisfied: watson-machine-learning-client in /opt/conda/envs/Python36/lib/python3.6/site-packages (1.0.376)\n",
      "Requirement already satisfied: urllib3 in /opt/conda/envs/Python36/lib/python3.6/site-packages (from watson-machine-learning-client) (1.24.1)\n",
      "Requirement already satisfied: lomond in /opt/conda/envs/Python36/lib/python3.6/site-packages (from watson-machine-learning-client) (0.3.3)\n",
      "Requirement already satisfied: certifi in /opt/conda/envs/Python36/lib/python3.6/site-packages (from watson-machine-learning-client) (2019.9.11)\n",
      "Requirement already satisfied: tabulate in /opt/conda/envs/Python36/lib/python3.6/site-packages (from watson-machine-learning-client) (0.8.2)\n",
      "Requirement already satisfied: ibm-cos-sdk in /opt/conda/envs/Python36/lib/python3.6/site-packages (from watson-machine-learning-client) (2.4.3)\n",
      "Requirement already satisfied: requests in /opt/conda/envs/Python36/lib/python3.6/site-packages (from watson-machine-learning-client) (2.21.0)\n",
      "Requirement already satisfied: pandas in /opt/conda/envs/Python36/lib/python3.6/site-packages (from watson-machine-learning-client) (0.24.1)\n",
      "Requirement already satisfied: tqdm in /opt/conda/envs/Python36/lib/python3.6/site-packages (from watson-machine-learning-client) (4.31.1)\n",
      "Requirement already satisfied: six>=1.10.0 in /opt/conda/envs/Python36/lib/python3.6/site-packages (from lomond->watson-machine-learning-client) (1.12.0)\n",
      "Requirement already satisfied: ibm-cos-sdk-core==2.*,>=2.0.0 in /opt/conda/envs/Python36/lib/python3.6/site-packages (from ibm-cos-sdk->watson-machine-learning-client) (2.4.3)\n",
      "Requirement already satisfied: ibm-cos-sdk-s3transfer==2.*,>=2.0.0 in /opt/conda/envs/Python36/lib/python3.6/site-packages (from ibm-cos-sdk->watson-machine-learning-client) (2.4.3)\n",
      "Requirement already satisfied: chardet<3.1.0,>=3.0.2 in /opt/conda/envs/Python36/lib/python3.6/site-packages (from requests->watson-machine-learning-client) (3.0.4)\n",
      "Requirement already satisfied: idna<2.9,>=2.5 in /opt/conda/envs/Python36/lib/python3.6/site-packages (from requests->watson-machine-learning-client) (2.8)\n",
      "Requirement already satisfied: numpy>=1.12.0 in /opt/conda/envs/Python36/lib/python3.6/site-packages (from pandas->watson-machine-learning-client) (1.15.4)\n",
      "Requirement already satisfied: pytz>=2011k in /opt/conda/envs/Python36/lib/python3.6/site-packages (from pandas->watson-machine-learning-client) (2018.9)\n",
      "Requirement already satisfied: python-dateutil>=2.5.0 in /opt/conda/envs/Python36/lib/python3.6/site-packages (from pandas->watson-machine-learning-client) (2.7.5)\n",
      "Requirement already satisfied: docutils>=0.10 in /opt/conda/envs/Python36/lib/python3.6/site-packages (from ibm-cos-sdk-core==2.*,>=2.0.0->ibm-cos-sdk->watson-machine-learning-client) (0.14)\n",
      "Requirement already satisfied: jmespath<1.0.0,>=0.7.1 in /opt/conda/envs/Python36/lib/python3.6/site-packages (from ibm-cos-sdk-core==2.*,>=2.0.0->ibm-cos-sdk->watson-machine-learning-client) (0.9.3)\n"
     ]
    }
   ],
   "source": [
    "!pip install watson-machine-learning-client\n",
    "# !pip install --upgrade watson-machine-learning-client --no-cache | tail -n 1\n",
    "# !pip install watson-machine-learning-client==1.0.371"
   ]
  },
  {
   "cell_type": "code",
   "execution_count": 2,
   "metadata": {},
   "outputs": [
    {
     "name": "stdout",
     "output_type": "stream",
     "text": [
      "Collecting ibm-ai-openscale\n",
      "\u001b[?25l  Downloading https://files.pythonhosted.org/packages/f9/0b/353d01904679acff60e949d4429f4398381dbefcb778570d93c6cee315a3/ibm_ai_openscale-2.1.18-py3-none-any.whl (565kB)\n",
      "\u001b[K     |████████████████████████████████| 573kB 18.9MB/s eta 0:00:01\n",
      "\u001b[?25hRequirement already satisfied: h5py in /opt/conda/envs/Python36/lib/python3.6/site-packages (from ibm-ai-openscale) (2.9.0)\n",
      "Requirement already satisfied: pandas in /opt/conda/envs/Python36/lib/python3.6/site-packages (from ibm-ai-openscale) (0.24.1)\n",
      "Requirement already satisfied: tabulate in /opt/conda/envs/Python36/lib/python3.6/site-packages (from ibm-ai-openscale) (0.8.2)\n",
      "Requirement already satisfied: requests in /opt/conda/envs/Python36/lib/python3.6/site-packages (from ibm-ai-openscale) (2.21.0)\n",
      "Requirement already satisfied: six in /opt/conda/envs/Python36/lib/python3.6/site-packages (from h5py->ibm-ai-openscale) (1.12.0)\n",
      "Requirement already satisfied: numpy>=1.7 in /opt/conda/envs/Python36/lib/python3.6/site-packages (from h5py->ibm-ai-openscale) (1.15.4)\n",
      "Requirement already satisfied: pytz>=2011k in /opt/conda/envs/Python36/lib/python3.6/site-packages (from pandas->ibm-ai-openscale) (2018.9)\n",
      "Requirement already satisfied: python-dateutil>=2.5.0 in /opt/conda/envs/Python36/lib/python3.6/site-packages (from pandas->ibm-ai-openscale) (2.7.5)\n",
      "Requirement already satisfied: urllib3<1.25,>=1.21.1 in /opt/conda/envs/Python36/lib/python3.6/site-packages (from requests->ibm-ai-openscale) (1.24.1)\n",
      "Requirement already satisfied: idna<2.9,>=2.5 in /opt/conda/envs/Python36/lib/python3.6/site-packages (from requests->ibm-ai-openscale) (2.8)\n",
      "Requirement already satisfied: chardet<3.1.0,>=3.0.2 in /opt/conda/envs/Python36/lib/python3.6/site-packages (from requests->ibm-ai-openscale) (3.0.4)\n",
      "Requirement already satisfied: certifi>=2017.4.17 in /opt/conda/envs/Python36/lib/python3.6/site-packages (from requests->ibm-ai-openscale) (2019.9.11)\n",
      "Installing collected packages: ibm-ai-openscale\n",
      "Successfully installed ibm-ai-openscale-2.1.18\n"
     ]
    }
   ],
   "source": [
    "!pip install ibm-ai-openscale\n",
    "# !pip install --upgrade ibm-ai-openscale --no-cache | tail -n 1\n",
    "# !pip install ibm-ai-openscale==2.1.16"
   ]
  },
  {
   "cell_type": "markdown",
   "metadata": {},
   "source": [
    "Note: Restart the kernel to assure the new libraries are being used."
   ]
  },
  {
   "cell_type": "markdown",
   "metadata": {},
   "source": [
    "### 1.2 Configure credentials"
   ]
  },
  {
   "cell_type": "markdown",
   "metadata": {},
   "source": [
    "To run this Lab you need to have a valid instance of Watson Openscale.\n",
    "\n",
    "To verify if you have one, go to the [cloud console](https://cloud.ibm.com/resources), clicking on `Services` you should see your Watson OpenScale instance listed.\n",
    "\n",
    "if not then from that screen click the upper right button **\"Create ressource\"**.\n",
    "From the search entry type 'openscale' and create a lite plan of Watson OpenScale.\n",
    "\n",
    "You also need a valid **IBM Cloud API Key** to assign the variable in the next cell.\n",
    "\n",
    "To get it go to the [IBM Cloud console](https://console.bluemix.net/) then click from the upper toolbar `Manage->Access (IAM)`. \n",
    "Select `IBM Cloud API Keys` from the left hand sidebar and then click the **\"Create an IBM Cloud API Key\"** button.\n",
    "\n",
    "From that page, give your key a name and click Create, then copy the created key and paste it below. "
   ]
  },
  {
   "cell_type": "code",
   "execution_count": 3,
   "metadata": {},
   "outputs": [
    {
     "name": "stdout",
     "output_type": "stream",
     "text": [
      "70ee9046-f34e-441c-8dbe-75d57d88b6f7\n",
      "{'instance_guid': '70ee9046-f34e-441c-8dbe-75d57d88b6f7', 'apikey': 'CQRxiAj_K5-AZPh13JROMfsZYNH0G8LMVaCAEdrx0_Ky', 'url': 'https://api.aiopenscale.cloud.ibm.com'}\n"
     ]
    }
   ],
   "source": [
    "CLOUD_API_KEY = \"<PASTE HERE>\"\n",
    "\n",
    "\n",
    "import requests\n",
    "from ibm_ai_openscale.utils import get_instance_guid\n",
    "\n",
    "WOS_GUID = get_instance_guid(api_key=CLOUD_API_KEY)\n",
    "AIOS_CREDENTIALS = {\n",
    "    \"instance_guid\": WOS_GUID,\n",
    "    \"apikey\": CLOUD_API_KEY,\n",
    "    \"url\": \"https://api.aiopenscale.cloud.ibm.com\"\n",
    "}\n",
    "\n",
    "if WOS_GUID is None:\n",
    "    print('Watson OpenScale GUID NOT FOUND')\n",
    "else:\n",
    "    print(WOS_GUID)\n",
    "print(AIOS_CREDENTIALS)"
   ]
  },
  {
   "cell_type": "markdown",
   "metadata": {},
   "source": [
    "You also need to have a valid instance of Watson Machine Learning (runtime for your models) running.\n",
    "\n",
    "To verify if you have one, go to the [cloud console](https://cloud.ibm.com/resources), clicking on `Services` you should see your Watson Machine Learning instance listed.\n",
    "\n",
    "if not then from that screen click the upper right button **\"Create ressource\"**.\n",
    "From the search entry type 'Machine Learning' and create a lite plan of Watson Machine Learning. \n",
    "MAKE SURE THE REGION FIELD GOT **DALLAS** as value if not modify it accordingly.\n",
    "\n",
    "From the IBM Cloud Resource list click on the Watson Machine Learning instance and from this page click the service credentials side bar item.\n",
    "clik on view **'credentials'** and copy the all json info provided as follow :\n",
    "\n",
    "```\n",
    "{\n",
    "  \"apikey\": \"XXXXXXXXXX\",\n",
    "  \"iam_apikey_description\": \"Auto-generated for key XXXX-YYYYY-ZZZZZZ\",\n",
    "  \"iam_apikey_name\": \"WML-credentials\",\n",
    "  \"iam_role_crn\": \"crn:v1:bluemix:public:iam::::serviceRole:Writer\",\n",
    "  \"iam_serviceid_crn\": \"crn:v1:bluemix:public:iam-identity::a/XXXXXXXX::serviceid:ServiceId-XXXX-YYYYYY-ZZZZZZZZ\",\n",
    "  \"instance_id\": \"WWWWWWWWWWWWWWWW\",\n",
    "  \"url\": \"https://us-south.ml.cloud.ibm.com\"\n",
    "}\n",
    "```   \n",
    "    \n",
    "\n",
    "replace the following variable with the obtained json data."
   ]
  },
  {
   "cell_type": "code",
   "execution_count": 4,
   "metadata": {},
   "outputs": [],
   "source": [
    "# WML4JLC\n",
    "WML_CREDENTIALS = {\n",
    "  \"apikey\": \"XXXXXXXXXX\",\n",
    "  \"iam_apikey_description\": \"Auto-generated for key XXXX-YYYYY-ZZZZZZ\",\n",
    "  \"iam_apikey_name\": \"WML-credentials\",\n",
    "  \"iam_role_crn\": \"crn:v1:bluemix:public:iam::::serviceRole:Writer\",\n",
    "  \"iam_serviceid_crn\": \"crn:v1:bluemix:public:iam-identity::a/XXXXXXXX::serviceid:ServiceId-XXXX-YYYYYY-ZZZZZZZZ\",\n",
    "  \"instance_id\": \"WWWWWWWWWWWWWWWW\",\n",
    "  \"url\": \"https://us-south.ml.cloud.ibm.com\"\n",
    "}\n"
   ]
  },
  {
   "cell_type": "code",
   "execution_count": 5,
   "metadata": {},
   "outputs": [
    {
     "name": "stdout",
     "output_type": "stream",
     "text": [
      " "
     ]
    }
   ],
   "source": [
    "import sys, time\n",
    "\n",
    "def Wait(seconds, Speed=5):\n",
    "    Chars = [\"|\",\"/\",\"-\",\"\\\\\"]\n",
    "    MaxChars = 4\n",
    "    sys.stdout.flush()\n",
    "    for i in range(seconds*Speed):\n",
    "        sys.stdout.write(\"\\r\" + Chars[i % MaxChars])\n",
    "        sys.stdout.flush()\n",
    "        time.sleep(1/Speed)\n",
    "    sys.stdout.write(\"\\r \")\n",
    "Wait(10)"
   ]
  },
  {
   "cell_type": "markdown",
   "metadata": {},
   "source": [
    "<a id=\"deployment\"></a>\n",
    "## 2. Creating and deploying an image-based model"
   ]
  },
  {
   "cell_type": "markdown",
   "metadata": {},
   "source": [
    "    The dataset used is FER (Facial Emotional Recogniton) dataset of a Kaggle challenge. \n",
    "\n",
    "Note: Tensorflow versions supported by WML are: 1.2, 1.5, and 1.11. Make sure you have one of these versions before creating the models. Version 1.11 is used in this notebook."
   ]
  },
  {
   "cell_type": "markdown",
   "metadata": {},
   "source": [
    "### 2.1 Creating a model"
   ]
  },
  {
   "cell_type": "code",
   "execution_count": 6,
   "metadata": {
    "scrolled": true
   },
   "outputs": [
    {
     "name": "stdout",
     "output_type": "stream",
     "text": [
      "Requirement already satisfied: keras in /opt/conda/envs/Python36/lib/python3.6/site-packages (2.2.4)\n",
      "Requirement already satisfied: numpy>=1.9.1 in /opt/conda/envs/Python36/lib/python3.6/site-packages (from keras) (1.15.4)\n",
      "Requirement already satisfied: scipy>=0.14 in /opt/conda/envs/Python36/lib/python3.6/site-packages (from keras) (1.2.0)\n",
      "Requirement already satisfied: six>=1.9.0 in /opt/conda/envs/Python36/lib/python3.6/site-packages (from keras) (1.12.0)\n",
      "Requirement already satisfied: pyyaml in /opt/conda/envs/Python36/lib/python3.6/site-packages (from keras) (3.13)\n",
      "Requirement already satisfied: h5py in /opt/conda/envs/Python36/lib/python3.6/site-packages (from keras) (2.9.0)\n",
      "Requirement already satisfied: keras_applications>=1.0.6 in /opt/conda/envs/Python36/lib/python3.6/site-packages (from keras) (1.0.6)\n",
      "Requirement already satisfied: keras_preprocessing>=1.0.5 in /opt/conda/envs/Python36/lib/python3.6/site-packages (from keras) (1.0.5)\n",
      "Collecting tensorflow==1.11.0\n",
      "\u001b[?25l  Downloading https://files.pythonhosted.org/packages/ce/d5/38cd4543401708e64c9ee6afa664b936860f4630dd93a49ab863f9998cd2/tensorflow-1.11.0-cp36-cp36m-manylinux1_x86_64.whl (63.0MB)\n",
      "\u001b[K     |████████████████████████████████| 63.0MB 59.6MB/s eta 0:00:01\n",
      "\u001b[?25hRequirement already satisfied: keras-applications>=1.0.5 in /opt/conda/envs/Python36/lib/python3.6/site-packages (from tensorflow==1.11.0) (1.0.6)\n",
      "Requirement already satisfied: wheel>=0.26 in /opt/conda/envs/Python36/lib/python3.6/site-packages (from tensorflow==1.11.0) (0.32.3)\n",
      "Requirement already satisfied: astor>=0.6.0 in /opt/conda/envs/Python36/lib/python3.6/site-packages (from tensorflow==1.11.0) (0.7.1)\n",
      "Requirement already satisfied: six>=1.10.0 in /opt/conda/envs/Python36/lib/python3.6/site-packages (from tensorflow==1.11.0) (1.12.0)\n",
      "Requirement already satisfied: protobuf>=3.6.0 in /opt/conda/envs/Python36/lib/python3.6/site-packages (from tensorflow==1.11.0) (3.6.1)\n",
      "Collecting setuptools<=39.1.0 (from tensorflow==1.11.0)\n",
      "\u001b[?25l  Downloading https://files.pythonhosted.org/packages/8c/10/79282747f9169f21c053c562a0baa21815a8c7879be97abd930dbcf862e8/setuptools-39.1.0-py2.py3-none-any.whl (566kB)\n",
      "\u001b[K     |████████████████████████████████| 573kB 44.4MB/s eta 0:00:01\n",
      "\u001b[?25hRequirement already satisfied: gast>=0.2.0 in /opt/conda/envs/Python36/lib/python3.6/site-packages (from tensorflow==1.11.0) (0.2.2)\n",
      "Requirement already satisfied: numpy>=1.13.3 in /opt/conda/envs/Python36/lib/python3.6/site-packages (from tensorflow==1.11.0) (1.15.4)\n",
      "Requirement already satisfied: absl-py>=0.1.6 in /opt/conda/envs/Python36/lib/python3.6/site-packages (from tensorflow==1.11.0) (0.7.0)\n",
      "Requirement already satisfied: grpcio>=1.8.6 in /opt/conda/envs/Python36/lib/python3.6/site-packages (from tensorflow==1.11.0) (1.16.1)\n",
      "Requirement already satisfied: keras-preprocessing>=1.0.3 in /opt/conda/envs/Python36/lib/python3.6/site-packages (from tensorflow==1.11.0) (1.0.5)\n",
      "Collecting tensorboard<1.12.0,>=1.11.0 (from tensorflow==1.11.0)\n",
      "\u001b[?25l  Downloading https://files.pythonhosted.org/packages/9b/2f/4d788919b1feef04624d63ed6ea45a49d1d1c834199ec50716edb5d310f4/tensorboard-1.11.0-py3-none-any.whl (3.0MB)\n",
      "\u001b[K     |████████████████████████████████| 3.0MB 39.0MB/s eta 0:00:01\n",
      "\u001b[?25hRequirement already satisfied: termcolor>=1.1.0 in /opt/conda/envs/Python36/lib/python3.6/site-packages (from tensorflow==1.11.0) (1.1.0)\n",
      "Requirement already satisfied: h5py in /opt/conda/envs/Python36/lib/python3.6/site-packages (from keras-applications>=1.0.5->tensorflow==1.11.0) (2.9.0)\n",
      "Requirement already satisfied: markdown>=2.6.8 in /opt/conda/envs/Python36/lib/python3.6/site-packages (from tensorboard<1.12.0,>=1.11.0->tensorflow==1.11.0) (3.0.1)\n",
      "Requirement already satisfied: werkzeug>=0.11.10 in /opt/conda/envs/Python36/lib/python3.6/site-packages (from tensorboard<1.12.0,>=1.11.0->tensorflow==1.11.0) (0.14.1)\n",
      "Installing collected packages: setuptools, tensorboard, tensorflow\n",
      "  Found existing installation: setuptools 40.8.0\n",
      "    Uninstalling setuptools-40.8.0:\n",
      "      Successfully uninstalled setuptools-40.8.0\n",
      "  Found existing installation: tensorflow 1.13.1\n",
      "    Uninstalling tensorflow-1.13.1:\n",
      "      Successfully uninstalled tensorflow-1.13.1\n",
      "Successfully installed setuptools-39.1.0 tensorboard-1.11.0 tensorflow-1.11.0\n",
      "Collecting keras_sequential_ascii\n",
      "  Downloading https://files.pythonhosted.org/packages/2d/a4/806e3ed5d7ac7463e2fae77e09ccccc88c78266b248fb637e4efa4f65ec0/keras_sequential_ascii-0.1.1.tar.gz\n",
      "Requirement already satisfied: keras in /opt/conda/envs/Python36/lib/python3.6/site-packages (from keras_sequential_ascii) (2.2.4)\n",
      "Requirement already satisfied: numpy>=1.9.1 in /opt/conda/envs/Python36/lib/python3.6/site-packages (from keras->keras_sequential_ascii) (1.15.4)\n",
      "Requirement already satisfied: scipy>=0.14 in /opt/conda/envs/Python36/lib/python3.6/site-packages (from keras->keras_sequential_ascii) (1.2.0)\n",
      "Requirement already satisfied: six>=1.9.0 in /opt/conda/envs/Python36/lib/python3.6/site-packages (from keras->keras_sequential_ascii) (1.12.0)\n",
      "Requirement already satisfied: pyyaml in /opt/conda/envs/Python36/lib/python3.6/site-packages (from keras->keras_sequential_ascii) (3.13)\n",
      "Requirement already satisfied: h5py in /opt/conda/envs/Python36/lib/python3.6/site-packages (from keras->keras_sequential_ascii) (2.9.0)\n",
      "Requirement already satisfied: keras_applications>=1.0.6 in /opt/conda/envs/Python36/lib/python3.6/site-packages (from keras->keras_sequential_ascii) (1.0.6)\n",
      "Requirement already satisfied: keras_preprocessing>=1.0.5 in /opt/conda/envs/Python36/lib/python3.6/site-packages (from keras->keras_sequential_ascii) (1.0.5)\n",
      "Building wheels for collected packages: keras-sequential-ascii\n",
      "  Building wheel for keras-sequential-ascii (setup.py) ... \u001b[?25ldone\n",
      "\u001b[?25h  Stored in directory: /home/dsxuser/.cache/pip/wheels/f5/8d/81/912666dff82a923ce423a7e797cd75f54271c7031512cdb282\n",
      "Successfully built keras-sequential-ascii\n",
      "Installing collected packages: keras-sequential-ascii\n",
      "Successfully installed keras-sequential-ascii-0.1.1\n"
     ]
    },
    {
     "name": "stderr",
     "output_type": "stream",
     "text": [
      "Using TensorFlow backend.\n"
     ]
    }
   ],
   "source": [
    "!pip install keras\n",
    "!pip install tensorflow==1.11.0\n",
    "!pip install keras_sequential_ascii\n",
    "\n",
    "import keras\n",
    "from keras_sequential_ascii import sequential_model_to_ascii_printout"
   ]
  },
  {
   "cell_type": "code",
   "execution_count": 7,
   "metadata": {},
   "outputs": [
    {
     "name": "stdout",
     "output_type": "stream",
     "text": [
      "KERAS v 2.2.4\n",
      "TENSORFLOW v 1.11.0\n"
     ]
    }
   ],
   "source": [
    "print(\"KERAS v {}\".format(keras.__version__))\n",
    "\n",
    "import tensorflow as tf\n",
    "print(\"TENSORFLOW v {}\".format(tf.__version__))"
   ]
  },
  {
   "cell_type": "markdown",
   "metadata": {},
   "source": [
    "THe goal of this lab is to evaluate the explainability of the model not to train it.\n",
    "So the next step is to load from the lab folder the associated pre-trained model and use it as is.\n",
    "You have the definition and trained weights of the model in a file called **_mini_XCEPTION.102-0.66.hdf5**\n",
    "\n",
    "**Keras also supports a simpler interface to save both the model weights and model architecture together into a single H5 file, \n",
    "while the HDF5 format store only Model weights and therefore the model architecture is provided as a JSON format.**\n",
    "    \n",
    "* Saving/Loading the model in H5 includes everything we need to know about the model, including:\n",
    "    - Model weights.\n",
    "    - Model architecture.\n",
    "    - Model compilation details (loss and metrics).\n",
    "    - Model optimizer state.\n",
    "* This means that we can load and use the model directly, without having to re-compile it.\n",
    "\n",
    "\n",
    "To upload the HDF5 file and use it please procedd as follow :\n",
    "From the upper toolbar select the *01* icon and Files tab, then drag/drop the file **_mini_XCEPTION.102-0.66.hdf5**\n",
    "Therefore the file appears in the right hand side bar.\n",
    "\n",
    "Move your cursor on the cell bellow and remove everything (cell fully empty !)\n",
    "\n",
    "Once done click the drop down arrow of the right hand side window where **_mini_XCEPTION.102-0.66.hdf5** is and select **insert to code>>Insert Streaming Object**\n",
    "\n",
    "the equivalent of the following should appear with your own project COS credentials\n",
    "\n",
    "```\n",
    "import types\n",
    "import pandas as pd\n",
    "from botocore.client import Config\n",
    "import ibm_boto3\n",
    "\n",
    "def __iter__(self): return 0\n",
    "\n",
    "# @hidden_cell\n",
    "# The following code accesses a file in your IBM Cloud Object Storage. It includes your credentials.\n",
    "# You might want to remove those credentials before you share the notebook.\n",
    "client_8a2a8e9ef5a44a08aaca7ec89672ecaa = ibm_boto3.client(service_name='s3',\n",
    "    ibm_api_key_id='xxxxxxxxxxxxx',\n",
    "    ibm_auth_endpoint=\"https://iam.ng.bluemix.net/oidc/token\",\n",
    "    config=Config(signature_version='oauth'),\n",
    "    endpoint_url='https://s3-api.us-geo.objectstorage.service.networklayer.com')\n",
    "\n",
    "# Your data file was loaded into a botocore.response.StreamingBody object.\n",
    "# Please read the documentation of ibm_boto3 and pandas to learn more about the possibilities to load the data.\n",
    "# ibm_boto3 documentation: https://ibm.github.io/ibm-cos-sdk-python/\n",
    "# pandas documentation: http://pandas.pydata.org/\n",
    "streaming_body_1 = client_8a2a8e9ef5a44a08aaca7ec89672ecaa.get_object(Bucket='XXXXXXX', Key='_mini_XCEPTION.102-0.66.hdf5')['Body']\n",
    "# add missing __iter__ method, so pandas accepts body as file-like object\n",
    "if not hasattr(streaming_body_1, \"__iter__\"): streaming_body_1.__iter__ = types.MethodType( __iter__, streaming_body_1 ) \n",
    "\n",
    "```   \n",
    "\n",
    "You also need to retrieve the bucket name of you Cloud Object Storage (COS) from the inserted code and then insert it into the cell where you will need to download files from the COS (see sample below)\n",
    "\n",
    "client_xxxxxxxx.get_object(<span style=\"background-color: #FFFF00\"> Bucket='my-generated-bucket-name-123245566788' </span>, Key='HandWrittenDigit-CNN.h5')['Body']\n",
    "\n",
    "```\n",
    "client_COS.download_file(Bucket='<inset your bucket-name here>',Key='HandWrittenDigit-CNN.h5',Filename='HandWrittenDigit-CNN.h5')\n",
    "\n",
    "```\n",
    "\n",
    "Last but not least rename the variable called **'client_8a2a8e9ef......72ecaa'** with **ClientCOS** (a bit more clear and reusable for the rest of the notebook !\n",
    "\n",
    "\n",
    "You're now ready to usethe HDF5 definition and weights for your model instead of having to retrain it."
   ]
  },
  {
   "cell_type": "code",
   "execution_count": 31,
   "metadata": {},
   "outputs": [],
   "source": [
    "\n",
    "import types\n",
    "import pandas as pd\n",
    "from botocore.client import Config\n",
    "import ibm_boto3\n",
    "\n",
    "def __iter__(self): return 0\n",
    "\n",
    "# @hidden_cell\n",
    "# The following code accesses a file in your IBM Cloud Object Storage. It includes your credentials.\n",
    "# You might want to remove those credentials before you share the notebook.\n",
    "client_8a2a8e9ef5a44a08aaca7ec89672ecaa = ibm_boto3.client(service_name='s3',\n",
    "    ibm_api_key_id='SgL3gHSfOX7WRMxOLrrvDiDvOl8Z0aCkeMIL9S3j-9Ge',\n",
    "    ibm_auth_endpoint=\"https://iam.ng.bluemix.net/oidc/token\",\n",
    "    config=Config(signature_version='oauth'),\n",
    "    endpoint_url='https://s3-api.us-geo.objectstorage.service.networklayer.com')\n",
    "\n",
    "# Your data file was loaded into a botocore.response.StreamingBody object.\n",
    "# Please read the documentation of ibm_boto3 and pandas to learn more about the possibilities to load the data.\n",
    "# ibm_boto3 documentation: https://ibm.github.io/ibm-cos-sdk-python/\n",
    "# pandas documentation: http://pandas.pydata.org/\n",
    "streaming_body_1 = client_8a2a8e9ef5a44a08aaca7ec89672ecaa.get_object(Bucket='demoai-donotdelete-pr-odc7lk3sakuluh', Key='_mini_XCEPTION.102-0.66.hdf5')['Body']\n",
    "# add missing __iter__ method, so pandas accepts body as file-like object\n",
    "if not hasattr(streaming_body_1, \"__iter__\"): streaming_body_1.__iter__ = types.MethodType( __iter__, streaming_body_1 ) \n"
   ]
  },
  {
   "cell_type": "code",
   "execution_count": 32,
   "metadata": {},
   "outputs": [],
   "source": [
    "ClientCOS = client_8a2a8e9ef5a44a08aaca7ec89672ecaa"
   ]
  },
  {
   "cell_type": "code",
   "execution_count": 33,
   "metadata": {},
   "outputs": [
    {
     "name": "stdout",
     "output_type": "stream",
     "text": [
      "Model to be retrain :  0\n",
      "_mini_XCEPTION.102-0.66.hdf5\n"
     ]
    }
   ],
   "source": [
    "!rm *\n",
    "OriginalModelFile = '_mini_XCEPTION.102-0.66.hdf5'\n",
    "\n",
    "ReTrainModel = 5\n",
    "try:\n",
    "    ClientCOS.download_file(Bucket='demoai-donotdelete-pr-odc7lk3sakuluh', Key=OriginalModelFile,Filename=OriginalModelFile)\n",
    "except:\n",
    "    # Model never created tbd\n",
    "    RetrainModel = 1\n",
    "else:\n",
    "    RetrainModel = 0\n",
    "print(\"Model to be retrain : \", RetrainModel)\n",
    "!ls"
   ]
  },
  {
   "cell_type": "code",
   "execution_count": 34,
   "metadata": {},
   "outputs": [],
   "source": [
    "from keras.models import load_model\n",
    "\n",
    "if RetrainModel == 0:\n",
    "    cnn_n = load_model(OriginalModelFile)\n",
    "else:\n",
    "    cnn_n = sequential()"
   ]
  },
  {
   "cell_type": "code",
   "execution_count": 35,
   "metadata": {},
   "outputs": [
    {
     "name": "stdout",
     "output_type": "stream",
     "text": [
      "           OPERATION           DATA DIMENSIONS   WEIGHTS(N)   WEIGHTS(%)\n",
      "\n",
      "               Input   #####     64   64    1\n",
      "          InputLayer     |   -------------------         0     0.0%\n",
      "                       #####     64   64    1\n",
      "              Conv2D    \\|/  -------------------        72     0.1%\n",
      "                       #####     62   62    8\n",
      "  BatchNormalization    μ|σ  -------------------        32     0.1%\n",
      "                relu   #####     62   62    8\n",
      "              Conv2D    \\|/  -------------------       576     1.0%\n",
      "                       #####     60   60    8\n",
      "  BatchNormalization    μ|σ  -------------------        32     0.1%\n",
      "                relu   #####     60   60    8\n",
      "     SeparableConv2D    /|\\x -------------------       200     0.3%\n",
      "                       #####     60   60   16\n",
      "  BatchNormalization    μ|σ  -------------------        64     0.1%\n",
      "                relu   #####     60   60   16\n",
      "     SeparableConv2D    /|\\x -------------------       400     0.7%\n",
      "                       #####     60   60   16\n",
      "  BatchNormalization    μ|σ  -------------------        64     0.1%\n",
      "                       #####     60   60   16\n",
      "              Conv2D    \\|/  -------------------       128     0.2%\n",
      "                       #####     30   30   16\n",
      "        MaxPooling2D   Y max -------------------         0     0.0%\n",
      "                       #####     30   30   16\n",
      "  BatchNormalization    μ|σ  -------------------        64     0.1%\n",
      "                       #####     30   30   16\n",
      "                 Add   ????? -------------------         0     0.0%\n",
      "                       #####     30   30   16\n",
      "     SeparableConv2D    /|\\x -------------------       656     1.1%\n",
      "                       #####     30   30   32\n",
      "  BatchNormalization    μ|σ  -------------------       128     0.2%\n",
      "                relu   #####     30   30   32\n",
      "     SeparableConv2D    /|\\x -------------------      1312     2.2%\n",
      "                       #####     30   30   32\n",
      "  BatchNormalization    μ|σ  -------------------       128     0.2%\n",
      "                       #####     30   30   32\n",
      "              Conv2D    \\|/  -------------------       512     0.9%\n",
      "                       #####     15   15   32\n",
      "        MaxPooling2D   Y max -------------------         0     0.0%\n",
      "                       #####     15   15   32\n",
      "  BatchNormalization    μ|σ  -------------------       128     0.2%\n",
      "                       #####     15   15   32\n",
      "                 Add   ????? -------------------         0     0.0%\n",
      "                       #####     15   15   32\n",
      "     SeparableConv2D    /|\\x -------------------      2336     4.0%\n",
      "                       #####     15   15   64\n",
      "  BatchNormalization    μ|σ  -------------------       256     0.4%\n",
      "                relu   #####     15   15   64\n",
      "     SeparableConv2D    /|\\x -------------------      4672     8.0%\n",
      "                       #####     15   15   64\n",
      "  BatchNormalization    μ|σ  -------------------       256     0.4%\n",
      "                       #####     15   15   64\n",
      "              Conv2D    \\|/  -------------------      2048     3.5%\n",
      "                       #####      8    8   64\n",
      "        MaxPooling2D   Y max -------------------         0     0.0%\n",
      "                       #####      8    8   64\n",
      "  BatchNormalization    μ|σ  -------------------       256     0.4%\n",
      "                       #####      8    8   64\n",
      "                 Add   ????? -------------------         0     0.0%\n",
      "                       #####      8    8   64\n",
      "     SeparableConv2D    /|\\x -------------------      8768    15.0%\n",
      "                       #####      8    8  128\n",
      "  BatchNormalization    μ|σ  -------------------       512     0.9%\n",
      "                relu   #####      8    8  128\n",
      "     SeparableConv2D    /|\\x -------------------     17536    30.0%\n",
      "                       #####      8    8  128\n",
      "  BatchNormalization    μ|σ  -------------------       512     0.9%\n",
      "                       #####      8    8  128\n",
      "              Conv2D    \\|/  -------------------      8192    14.0%\n",
      "                       #####      4    4  128\n",
      "        MaxPooling2D   Y max -------------------         0     0.0%\n",
      "                       #####      4    4  128\n",
      "  BatchNormalization    μ|σ  -------------------       512     0.9%\n",
      "                       #####      4    4  128\n",
      "                 Add   ????? -------------------         0     0.0%\n",
      "                       #####      4    4  128\n",
      "              Conv2D    \\|/  -------------------      8071    13.8%\n",
      "                       #####      4    4    7\n",
      "GlobalAveragePooling2D   Y^avg -------------------         0     0.0%\n",
      "             softmax   #####           7\n"
     ]
    }
   ],
   "source": [
    "# Vizualizing model structure\n",
    "sequential_model_to_ascii_printout(cnn_n)"
   ]
  },
  {
   "cell_type": "code",
   "execution_count": 36,
   "metadata": {},
   "outputs": [],
   "source": [
    "# dictionary which assigns each label an emotion (alphabetical order)\n",
    "EMOTIONS_DICT = {0: \"Angry\", 1: \"Disgusted\", 2: \"Fearful\", 3: \"Happy\", 4: \"Neutral\", 5: \"Sad\", 6: \"Surprised\"}"
   ]
  },
  {
   "cell_type": "markdown",
   "metadata": {},
   "source": [
    "### 2.2 Storing the model"
   ]
  },
  {
   "cell_type": "code",
   "execution_count": 37,
   "metadata": {},
   "outputs": [],
   "source": [
    "from watson_machine_learning_client import WatsonMachineLearningAPIClient\n",
    "\n",
    "wml_client = WatsonMachineLearningAPIClient(WML_CREDENTIALS)"
   ]
  },
  {
   "cell_type": "code",
   "execution_count": 38,
   "metadata": {},
   "outputs": [
    {
     "name": "stdout",
     "output_type": "stream",
     "text": [
      "tar -czvf FER-Model-HDF5.tar.gz _mini_XCEPTION.102-0.66.hdf5\n"
     ]
    },
    {
     "data": {
      "text/plain": [
       "0"
      ]
     },
     "execution_count": 38,
     "metadata": {},
     "output_type": "execute_result"
    }
   ],
   "source": [
    "model_name = \"FER-Model-HDF5\"\n",
    "\n",
    "import os\n",
    "os.system('rm'+model_name+'*')\n",
    "\n",
    "TarModelFile = model_name + '.tar.gz'\n",
    "print('tar -czvf '+ TarModelFile + ' '+OriginalModelFile)\n",
    "os.system('tar -czvf '+ TarModelFile + ' '+OriginalModelFile)\n",
    "# !tar -czvf FER-Model-HDF5.tar.gz _mini_XCEPTION.102-0.66.hdf5"
   ]
  },
  {
   "cell_type": "code",
   "execution_count": 39,
   "metadata": {},
   "outputs": [
    {
     "name": "stdout",
     "output_type": "stream",
     "text": [
      "FER-Model-HDF5.tar.gz\r\n"
     ]
    }
   ],
   "source": [
    "os.system('rm '+OriginalModelFile)\n",
    "!ls"
   ]
  },
  {
   "cell_type": "code",
   "execution_count": 40,
   "metadata": {},
   "outputs": [
    {
     "data": {
      "text/plain": [
       "{'name': 'FER-Model-HDF5',\n",
       " 'description': 'FER-Model-HDF5 from Kaggle',\n",
       " 'frameworkName': 'tensorflow',\n",
       " 'frameworkVersion': '1.11',\n",
       " 'frameworkLibraries': [{'name': 'keras', 'version': '2.2.4'}]}"
      ]
     },
     "execution_count": 40,
     "metadata": {},
     "output_type": "execute_result"
    }
   ],
   "source": [
    "# Update the FRAMEWORK_VERSION below depending on the tensorflow version used\n",
    "model_meta = {\n",
    "    wml_client.repository.ModelMetaNames.NAME: model_name,\n",
    "    wml_client.repository.ModelMetaNames.DESCRIPTION: model_name + \" from Kaggle\",\n",
    "    wml_client.repository.ModelMetaNames.FRAMEWORK_NAME: \"tensorflow\",\n",
    "    wml_client.repository.ModelMetaNames.FRAMEWORK_VERSION: \"1.11\",\n",
    "    wml_client.repository.ModelMetaNames.FRAMEWORK_LIBRARIES: [\n",
    "         {\"name\": \"keras\", \"version\": \"2.2.4\"}\n",
    "    ]\n",
    "}\n",
    "model_meta"
   ]
  },
  {
   "cell_type": "code",
   "execution_count": 41,
   "metadata": {},
   "outputs": [
    {
     "name": "stdout",
     "output_type": "stream",
     "text": [
      "------------------------------------  ------------------------------------  ------------------------  ---------------  -----------------\n",
      "GUID                                  NAME                                  CREATED                   FRAMEWORK        TYPE\n",
      "13bc8f83-ec48-41e5-ba28-dee6154e2080  Spark German Risk Model - Final       2019-11-08T10:03:42.944Z  mllib            definition\n",
      "91e232a5-0bc8-4916-81f7-19be81aa33bf  Spark German Risk Model - Final       2019-10-02T10:13:10.364Z  mllib            definition\n",
      "812f030f-56c7-4231-a24e-0d0ed9fb917c  Spark German Risk Model - Final       2019-09-30T19:39:32.021Z  mllib            definition\n",
      "85c80a15-a03e-45b6-904d-806a291e260a  Spark German Risk Model - Final       2019-09-30T17:51:50.181Z  mllib            definition\n",
      "60d3a487-1f32-4fd4-9a49-7ea85001306d  Spark German Risk Model - Final       2019-09-30T17:50:29.777Z  mllib            definition\n",
      "35a9ed96-fc11-4129-9a96-f83f71020694  Spark German Risk Model - Final       2019-09-30T17:46:37.635Z  mllib            definition\n",
      "540264f8-7fe8-4ea4-896c-50e00175d9e9  Spark German Risk Model - Final       2019-09-30T17:45:47.523Z  mllib            definition\n",
      "83c9b392-20cd-4c63-89c2-882c250a26ff  Spark German Risk Model - Final       2019-09-30T17:43:26.744Z  mllib            definition\n",
      "43fb2e21-e4fc-4573-9686-2f674f526610  Spark German Risk Model - Final       2019-09-30T17:41:27.191Z  mllib            definition\n",
      "15382117-d170-407d-aea6-9adfc00fbce5  Spark German Risk Model - Final       2019-09-30T17:28:57.386Z  mllib            definition\n",
      "71cb4f66-68cf-4305-b17b-c4714d132d2e  Spark German Risk Model - Final       2019-09-29T11:33:31.607Z  mllib            definition\n",
      "50d44e6f-282a-45c2-b7f8-be34359b2591  Spark German Risk Model - Final       2019-09-23T14:10:19.047Z  mllib            definition\n",
      "0495091a-cacd-43e6-be23-4d80c13c987c  Text Binary Classifier                2019-09-18T16:13:34.693Z  mllib            definition\n",
      "0b87bef5-5e35-42fa-b630-3b04c1dd784a  Text Binary Classifier                2019-09-18T10:30:17.718Z  mllib            definition\n",
      "a70ff561-104a-4201-b10d-4d62464086d8  Text Binary Classifier                2019-09-18T09:09:43.694Z  mllib            definition\n",
      "e946bfbf-ea9e-46ca-9fe1-240b55ba4743  Text Binary Classifier                2019-09-17T15:04:37.361Z  mllib            definition\n",
      "fb5bdf19-bef5-4137-8107-32faf8a7fc4c  FER-Model-HDF5                        2019-11-19T20:08:31.031Z  tensorflow-1.11  model\n",
      "dcf1e624-2696-4997-aaa5-35af4fdb4aa4  Spark German Risk Model - Final       2019-11-08T10:03:50.316Z  mllib-2.3        model\n",
      "c035f6ab-11b8-48c7-9a39-c4cd41cac11e  Simpsons300                           2019-11-06T10:09:44.008Z  tensorflow-1.5   model\n",
      "8fd859c9-acfa-4bec-a1da-d32726d58cd7  FER-Model-HDF5                        2019-10-16T20:21:05.302Z  tensorflow-1.11  model\n",
      "ee1bed7b-6eb4-44e9-a5a0-f4ff995de644  FER-Kaggle                            2019-09-26T12:40:59.874Z  tensorflow-1.5   model\n",
      "390d32b2-b3f0-4f67-aceb-6d9b04b0db0a  Text Binary Classifier                2019-09-18T16:13:50.846Z  mllib-2.3        model\n",
      "35ff37c5-b12b-437b-b269-809cdd815e27  Text Binary Classifier                2019-09-18T09:09:49.035Z  mllib-2.3        model\n",
      "3f0f33c8-42a8-46a2-98f9-2407bbca2511  Text Binary Classifier                2019-09-17T15:04:42.888Z  mllib-2.3        model\n",
      "4b540dfa-400d-4160-a399-f72d166409a5  GermanCreditRiskModel                 2019-09-16T12:51:34.237Z  mllib-2.3        model\n",
      "a37e9118-fc41-4351-9946-6442bd47d79d  FER-Model-HDF5 Deployment             2019-11-19T20:08:48.765Z  tensorflow-1.11  online deployment\n",
      "fb964106-2a52-456b-b356-dac31e927d65  Spark German Risk Deployment - Final  2019-11-08T10:04:03.940Z  mllib-2.3        online deployment\n",
      "610ff1b2-d6f5-4e69-a91c-5c357451fba9  created using neunets                 2019-11-06T17:35:36.873Z  tensorflow-1.5   online deployment\n",
      "1d39be4d-7fb0-4f5d-9584-7e3c75e6a351  created using neunets                 2019-10-07T12:02:42.587Z  tensorflow-1.5   online deployment\n",
      "07043e2f-e4c5-41e4-a295-c9e38bab2a75  GermanCreditRiskModel                 2019-09-16T12:51:36.726Z  mllib-2.3        online deployment\n",
      "------------------------------------  ------------------------------------  ------------------------  ---------------  -----------------\n"
     ]
    }
   ],
   "source": [
    "# wml_client.repository.delete('3d1e459d-7f1c-4b72-9a65-75573defedc5')\n",
    "# wml_client.deployments.delete('c66a80cc-1031-4ca2-a6a2-0076e7b6bd48')\n",
    "wml_client.repository.list()"
   ]
  },
  {
   "cell_type": "code",
   "execution_count": 42,
   "metadata": {},
   "outputs": [],
   "source": [
    "# published_model_details = wml_client.repository.get_details('7d7d20b6-6e54-4643-ae14-f99f41f0f986')"
   ]
  },
  {
   "cell_type": "code",
   "execution_count": 43,
   "metadata": {},
   "outputs": [
    {
     "name": "stdout",
     "output_type": "stream",
     "text": [
      "Note: Model of framework tensorflow and versions 1.5/1.11 has been deprecated. These versions will not be supported after 26th Nov 2019.\n"
     ]
    }
   ],
   "source": [
    "\n",
    "published_model_details = wml_client.repository.store_model(model=TarModelFile, meta_props=model_meta)"
   ]
  },
  {
   "cell_type": "code",
   "execution_count": 44,
   "metadata": {},
   "outputs": [
    {
     "data": {
      "text/plain": [
       "'e54b4319-e18e-419f-bf70-85331d592327'"
      ]
     },
     "execution_count": 44,
     "metadata": {},
     "output_type": "execute_result"
    }
   ],
   "source": [
    "model_uid = wml_client.repository.get_model_uid(published_model_details)\n",
    "model_uid "
   ]
  },
  {
   "cell_type": "markdown",
   "metadata": {},
   "source": [
    "### 2.3 Deploying the model"
   ]
  },
  {
   "cell_type": "code",
   "execution_count": 45,
   "metadata": {},
   "outputs": [
    {
     "name": "stdout",
     "output_type": "stream",
     "text": [
      "Note: Model of framework tensorflow and versions 1.5/1.11 has been deprecated. These versions will not be supported after 26th Nov 2019.\n",
      "\n",
      "\n",
      "#######################################################################################\n",
      "\n",
      "Synchronous deployment creation for uid: 'e54b4319-e18e-419f-bf70-85331d592327' started\n",
      "\n",
      "#######################################################################################\n",
      "\n",
      "\n",
      "INITIALIZING\n",
      "DEPLOY_IN_PROGRESS....\n",
      "DEPLOY_SUCCESS\n",
      "\n",
      "\n",
      "------------------------------------------------------------------------------------------------\n",
      "Successfully finished deployment creation, deployment_uid='8c75c216-fbaa-422a-a3a7-6daa8a90fc2c'\n",
      "------------------------------------------------------------------------------------------------\n",
      "\n",
      "\n"
     ]
    }
   ],
   "source": [
    "deployment= wml_client.deployments.create(name= model_name + \" Deployment\", model_uid=model_uid)"
   ]
  },
  {
   "cell_type": "code",
   "execution_count": 46,
   "metadata": {},
   "outputs": [
    {
     "name": "stdout",
     "output_type": "stream",
     "text": [
      "------------------------------------  ------------------------------------  ------  --------------  ------------------------  ---------------  -------------\n",
      "GUID                                  NAME                                  TYPE    STATE           CREATED                   FRAMEWORK        ARTIFACT TYPE\n",
      "8c75c216-fbaa-422a-a3a7-6daa8a90fc2c  FER-Model-HDF5 Deployment             online  DEPLOY_SUCCESS  2019-11-19T20:13:14.651Z  tensorflow-1.11  model\n",
      "a37e9118-fc41-4351-9946-6442bd47d79d  FER-Model-HDF5 Deployment             online  DEPLOY_SUCCESS  2019-11-19T20:08:48.765Z  tensorflow-1.11  model\n",
      "fb964106-2a52-456b-b356-dac31e927d65  Spark German Risk Deployment - Final  online  DEPLOY_SUCCESS  2019-11-08T10:04:03.940Z  mllib-2.3        model\n",
      "610ff1b2-d6f5-4e69-a91c-5c357451fba9  created using neunets                 online  DEPLOY_SUCCESS  2019-11-06T17:35:36.873Z  tensorflow-1.5   model\n",
      "1d39be4d-7fb0-4f5d-9584-7e3c75e6a351  created using neunets                 online  DEPLOY_SUCCESS  2019-10-07T12:02:42.587Z  tensorflow-1.5   model\n",
      "07043e2f-e4c5-41e4-a295-c9e38bab2a75  GermanCreditRiskModel                 online  DEPLOY_SUCCESS  2019-09-16T12:51:36.726Z  mllib-2.3        model\n",
      "------------------------------------  ------------------------------------  ------  --------------  ------------------------  ---------------  -------------\n",
      "None\n",
      "https://us-south.ml.cloud.ibm.com/v3/wml_instances/febb80c2-33af-4014-8dd8-ef2170ff4cfb/deployments/8c75c216-fbaa-422a-a3a7-6daa8a90fc2c/online\n"
     ]
    }
   ],
   "source": [
    "scoring_url = wml_client.deployments.get_scoring_url(deployment)\n",
    "print(wml_client.deployments.list())\n",
    "print(scoring_url)"
   ]
  },
  {
   "cell_type": "markdown",
   "metadata": {},
   "source": [
    "## 3. Subscriptions"
   ]
  },
  {
   "cell_type": "markdown",
   "metadata": {},
   "source": [
    "### 3.1 Configuring OpenScale"
   ]
  },
  {
   "cell_type": "code",
   "execution_count": 47,
   "metadata": {},
   "outputs": [
    {
     "data": {
      "text/plain": [
       "'2.1.18'"
      ]
     },
     "execution_count": 47,
     "metadata": {},
     "output_type": "execute_result"
    }
   ],
   "source": [
    "from ibm_ai_openscale import APIClient\n",
    "from ibm_ai_openscale.engines import WatsonMachineLearningAsset\n",
    "\n",
    "aios_client = APIClient(AIOS_CREDENTIALS)\n",
    "aios_client.version"
   ]
  },
  {
   "cell_type": "code",
   "execution_count": 48,
   "metadata": {},
   "outputs": [
    {
     "name": "stdout",
     "output_type": "stream",
     "text": [
      "Deleted existing subscription for FER-Model-HDF5\n"
     ]
    }
   ],
   "source": [
    "#  CLEAN SUBSCRIPTION ENTRIES\n",
    "subscriptions_uids = aios_client.data_mart.subscriptions.get_uids()\n",
    "for subscription in subscriptions_uids:\n",
    "    sub_name = aios_client.data_mart.subscriptions.get_details(subscription)['entity']['asset']['name']\n",
    "    if sub_name == model_name:\n",
    "        aios_client.data_mart.subscriptions.delete(subscription)\n",
    "        print('Deleted existing subscription for', model_name)"
   ]
  },
  {
   "cell_type": "markdown",
   "metadata": {},
   "source": [
    "### 3.2 Subscribe the asset"
   ]
  },
  {
   "cell_type": "code",
   "execution_count": 49,
   "metadata": {},
   "outputs": [],
   "source": [
    "from ibm_ai_openscale.supporting_classes import *\n",
    "\n",
    "Asset = WatsonMachineLearningAsset(model_uid,\n",
    "                                   problem_type=ProblemType.MULTICLASS_CLASSIFICATION,\n",
    "                                   input_data_type=InputDataType.UNSTRUCTURED_IMAGE,\n",
    "                                   probability_column='probability'\n",
    "                                  )\n",
    "subscription = aios_client.data_mart.subscriptions.add(Asset)"
   ]
  },
  {
   "cell_type": "code",
   "execution_count": 50,
   "metadata": {},
   "outputs": [
    {
     "data": {
      "text/html": [
       "<HTML>\n",
       "        <body>\n",
       "            <h3>Subscriptions</h3>\n",
       "            <table style='border: 1px solid #dddddd; font-family: Courier'>\n",
       "                <th style='border: 1px solid #dddddd'>uid</th><th style='border: 1px solid #dddddd'>name</th><th style='border: 1px solid #dddddd'>type</th><th style='border: 1px solid #dddddd'>binding_uid</th><th style='border: 1px solid #dddddd'>created</th>\n",
       "                <tr><td style='border: 1px solid #dddddd'>5e0044fe-9c1e-4b21-bd60-08def28fa4d8</td><td style='border: 1px solid #dddddd'>FER-Model-HDF5</td><td style='border: 1px solid #dddddd'>model</td><td style='border: 1px solid #dddddd'>febb80c2-33af-4014-8dd8-ef2170ff4cfb</td><td style='border: 1px solid #dddddd'>2019-11-19T20:13:59.163Z</td></tr><tr><td style='border: 1px solid #dddddd'>e56ffa07-970d-4d74-b284-1e1e03244544</td><td style='border: 1px solid #dddddd'>MNIST Model</td><td style='border: 1px solid #dddddd'>model</td><td style='border: 1px solid #dddddd'>febb80c2-33af-4014-8dd8-ef2170ff4cfb</td><td style='border: 1px solid #dddddd'>2019-11-12T14:14:59.425Z</td></tr><tr><td style='border: 1px solid #dddddd'>087a04a9-2318-472e-ad42-3783b631666b</td><td style='border: 1px solid #dddddd'>Spark German Risk Model - Final</td><td style='border: 1px solid #dddddd'>model</td><td style='border: 1px solid #dddddd'>febb80c2-33af-4014-8dd8-ef2170ff4cfb</td><td style='border: 1px solid #dddddd'>2019-11-08T10:04:43.254Z</td></tr><tr><td style='border: 1px solid #dddddd'>b5079da2-264b-43e8-a71f-a9ee23208832</td><td style='border: 1px solid #dddddd'>FER-Kaggle</td><td style='border: 1px solid #dddddd'>model</td><td style='border: 1px solid #dddddd'>febb80c2-33af-4014-8dd8-ef2170ff4cfb</td><td style='border: 1px solid #dddddd'>2019-10-16T11:26:28.635Z</td></tr><tr><td style='border: 1px solid #dddddd'>c50ada6b-a76e-42be-b000-831d519dda63</td><td style='border: 1px solid #dddddd'>FER-2013</td><td style='border: 1px solid #dddddd'>model</td><td style='border: 1px solid #dddddd'>febb80c2-33af-4014-8dd8-ef2170ff4cfb</td><td style='border: 1px solid #dddddd'>2019-10-09T22:18:02.029Z</td></tr>\n",
       "            </table>\n",
       "        </body>\n",
       "        </HTML>"
      ],
      "text/plain": [
       "<IPython.core.display.HTML object>"
      ]
     },
     "metadata": {},
     "output_type": "display_data"
    }
   ],
   "source": [
    "# aios_client.data_mart.subscriptions.delete('9d891fc1-4455-4566-b797-2472171abc03')\n",
    "aios_client.data_mart.subscriptions.list()"
   ]
  },
  {
   "cell_type": "code",
   "execution_count": 51,
   "metadata": {},
   "outputs": [
    {
     "data": {
      "text/plain": [
       "{'entity': {'asset': {'asset_id': 'e54b4319-e18e-419f-bf70-85331d592327',\n",
       "   'asset_type': 'model',\n",
       "   'created_at': '2019-11-19T20:13:14.618Z',\n",
       "   'name': 'FER-Model-HDF5',\n",
       "   'url': 'https://us-south.ml.cloud.ibm.com/v3/wml_instances/febb80c2-33af-4014-8dd8-ef2170ff4cfb/published_models/e54b4319-e18e-419f-bf70-85331d592327'},\n",
       "  'asset_properties': {'input_data_type': 'unstructured_image',\n",
       "   'model_type': 'tensorflow-1.11',\n",
       "   'probability_fields': ['probability'],\n",
       "   'problem_type': 'multiclass',\n",
       "   'runtime_environment': 'None Provided'},\n",
       "  'configurations': [{'enabled': True,\n",
       "    'monitor_definition_id': 'payload_logging',\n",
       "    'type': 'payload_logging',\n",
       "    'url': '/v1/data_marts/70ee9046-f34e-441c-8dbe-75d57d88b6f7/service_bindings/febb80c2-33af-4014-8dd8-ef2170ff4cfb/subscriptions/5e0044fe-9c1e-4b21-bd60-08def28fa4d8/configurations/payload_logging'},\n",
       "   {'enabled': False,\n",
       "    'monitor_definition_id': 'explainability',\n",
       "    'type': 'explainability',\n",
       "    'url': '/v1/data_marts/70ee9046-f34e-441c-8dbe-75d57d88b6f7/service_bindings/febb80c2-33af-4014-8dd8-ef2170ff4cfb/subscriptions/5e0044fe-9c1e-4b21-bd60-08def28fa4d8/configurations/explainability'},\n",
       "   {'enabled': True,\n",
       "    'monitor_definition_id': 'performance_monitoring',\n",
       "    'type': 'performance_monitoring',\n",
       "    'url': '/v1/data_marts/70ee9046-f34e-441c-8dbe-75d57d88b6f7/service_bindings/febb80c2-33af-4014-8dd8-ef2170ff4cfb/subscriptions/5e0044fe-9c1e-4b21-bd60-08def28fa4d8/configurations/performance_monitoring'},\n",
       "   {'enabled': False,\n",
       "    'monitor_definition_id': 'fairness_monitoring',\n",
       "    'type': 'fairness_monitoring',\n",
       "    'url': '/v1/data_marts/70ee9046-f34e-441c-8dbe-75d57d88b6f7/service_bindings/febb80c2-33af-4014-8dd8-ef2170ff4cfb/subscriptions/5e0044fe-9c1e-4b21-bd60-08def28fa4d8/configurations/fairness_monitoring'},\n",
       "   {'enabled': False,\n",
       "    'monitor_definition_id': 'mrm',\n",
       "    'type': 'mrm',\n",
       "    'url': '/v1/data_marts/70ee9046-f34e-441c-8dbe-75d57d88b6f7/service_bindings/febb80c2-33af-4014-8dd8-ef2170ff4cfb/subscriptions/5e0044fe-9c1e-4b21-bd60-08def28fa4d8/configurations/mrm'},\n",
       "   {'enabled': False,\n",
       "    'monitor_definition_id': 'correlations',\n",
       "    'type': 'correlations',\n",
       "    'url': '/v1/data_marts/70ee9046-f34e-441c-8dbe-75d57d88b6f7/service_bindings/febb80c2-33af-4014-8dd8-ef2170ff4cfb/subscriptions/5e0044fe-9c1e-4b21-bd60-08def28fa4d8/configurations/correlations'},\n",
       "   {'enabled': False,\n",
       "    'monitor_definition_id': 'drift',\n",
       "    'type': 'drift',\n",
       "    'url': '/v1/data_marts/70ee9046-f34e-441c-8dbe-75d57d88b6f7/service_bindings/febb80c2-33af-4014-8dd8-ef2170ff4cfb/subscriptions/5e0044fe-9c1e-4b21-bd60-08def28fa4d8/configurations/drift'},\n",
       "   {'enabled': False,\n",
       "    'monitor_definition_id': 'quality',\n",
       "    'type': 'quality_monitoring',\n",
       "    'url': '/v1/data_marts/70ee9046-f34e-441c-8dbe-75d57d88b6f7/service_bindings/febb80c2-33af-4014-8dd8-ef2170ff4cfb/subscriptions/5e0044fe-9c1e-4b21-bd60-08def28fa4d8/configurations/quality'},\n",
       "   {'enabled': False,\n",
       "    'monitor_definition_id': 'my_model_performance',\n",
       "    'type': 'my_model_performance',\n",
       "    'url': '/v1/data_marts/70ee9046-f34e-441c-8dbe-75d57d88b6f7/service_bindings/febb80c2-33af-4014-8dd8-ef2170ff4cfb/subscriptions/5e0044fe-9c1e-4b21-bd60-08def28fa4d8/configurations/my_model_performance'}],\n",
       "  'deployments': [{'created_at': '2019-11-19T20:13:14.651Z',\n",
       "    'deployment_id': '8c75c216-fbaa-422a-a3a7-6daa8a90fc2c',\n",
       "    'deployment_rn': '',\n",
       "    'deployment_type': 'online',\n",
       "    'name': 'FER-Model-HDF5 Deployment',\n",
       "    'scoring_endpoint': {'request_headers': {'Content-Type': 'application/json'},\n",
       "     'url': 'https://us-south.ml.cloud.ibm.com/v3/wml_instances/febb80c2-33af-4014-8dd8-ef2170ff4cfb/deployments/8c75c216-fbaa-422a-a3a7-6daa8a90fc2c/online'},\n",
       "    'url': 'https://us-south.ml.cloud.ibm.com/v3/wml_instances/febb80c2-33af-4014-8dd8-ef2170ff4cfb/deployments/8c75c216-fbaa-422a-a3a7-6daa8a90fc2c'}],\n",
       "  'service_binding_id': 'febb80c2-33af-4014-8dd8-ef2170ff4cfb',\n",
       "  'status': {'state': 'active'}},\n",
       " 'metadata': {'guid': '5e0044fe-9c1e-4b21-bd60-08def28fa4d8',\n",
       "  'url': '/v1/data_marts/70ee9046-f34e-441c-8dbe-75d57d88b6f7/service_bindings/febb80c2-33af-4014-8dd8-ef2170ff4cfb/subscriptions/5e0044fe-9c1e-4b21-bd60-08def28fa4d8',\n",
       "  'created_at': '2019-11-19T20:13:59.163Z'}}"
      ]
     },
     "execution_count": 51,
     "metadata": {},
     "output_type": "execute_result"
    }
   ],
   "source": [
    "subscription.get_details()"
   ]
  },
  {
   "cell_type": "code",
   "execution_count": 52,
   "metadata": {},
   "outputs": [
    {
     "name": "stdout",
     "output_type": "stream",
     "text": [
      "Requirement already satisfied: opencv_python in /opt/conda/envs/Python36/lib/python3.6/site-packages (4.1.1.26)\n",
      "Requirement already satisfied: numpy>=1.11.3 in /opt/conda/envs/Python36/lib/python3.6/site-packages (from opencv_python) (1.15.4)\n",
      "{\n",
      "    \"fields\": [\n",
      "        \"prediction\"\n",
      "    ],\n",
      "    \"values\": [\n",
      "        [\n",
      "            0.0008969628252089024,\n",
      "            9.394787412020378e-06,\n",
      "            0.009640260599553585,\n",
      "            0.02122584916651249,\n",
      "            0.007926308549940586,\n",
      "            0.8861942291259766,\n",
      "            0.0741070955991745\n",
      "        ]\n",
      "    ]\n",
      "}\n"
     ]
    }
   ],
   "source": [
    "!pip install opencv_python\n",
    "\n",
    "import cv2\n",
    "import numpy as np\n",
    "\n",
    "ClientCOS.download_file(Bucket='demoai-donotdelete-pr-odc7lk3sakuluh', Key='face-test4.jpg',Filename='face-test4.jpg')\n",
    "\n",
    "img = cv2.imread('face-test4.jpg')\n",
    "grayImg = cv2.cvtColor(img, cv2.COLOR_BGR2GRAY)\n",
    "img = cv2.resize(grayImg, (64, 64))\n",
    "test_image = img.reshape([-1,64,64,1])\n",
    "test_image = np.multiply(test_image, 1.0 / 255.0)\n",
    "\n",
    "image_as_array = np.asarray(test_image)\n",
    "scoring_payload = {'values': image_as_array.tolist()}\n",
    "\n",
    "predictions = wml_client.deployments.score(scoring_url, scoring_payload)\n",
    "print(json.dumps(predictions, sort_keys=True, indent=4))"
   ]
  },
  {
   "cell_type": "markdown",
   "metadata": {},
   "source": [
    "### 3.3 Score the model and get transaction-id"
   ]
  },
  {
   "cell_type": "code",
   "execution_count": 53,
   "metadata": {},
   "outputs": [
    {
     "name": "stdout",
     "output_type": "stream",
     "text": [
      "                            scoring_id                scoring_timestamp  \\\n",
      "0  fb6a38ba7d6d460682a3c40d9827ee70-1 2019-11-19 20:14:06.909519+00:00   \n",
      "\n",
      "                          deployment_id                        asset_revision  \\\n",
      "0  8c75c216-fbaa-422a-a3a7-6daa8a90fc2c  0236bb37-391d-442c-b0d8-f98ca6f9d0f8   \n",
      "\n",
      "                                       scoring_input  prediction_probability  \\\n",
      "0  [[[0.39215686274509803], [0.39215686274509803]...                0.886194   \n",
      "\n",
      "   scoring_prediction                                         prediction  \n",
      "0                   5  [0.0008969628252089024, 9.394787412020378e-06,...  \n"
     ]
    },
    {
     "data": {
      "text/plain": [
       "'fb6a38ba7d6d460682a3c40d9827ee70-1'"
      ]
     },
     "execution_count": 53,
     "metadata": {},
     "output_type": "execute_result"
    }
   ],
   "source": [
    "Wait(60)\n",
    "print (subscription.payload_logging.get_table_content())\n",
    "transaction_id = subscription.payload_logging.get_table_content().scoring_id[0]\n",
    "transaction_id"
   ]
  },
  {
   "cell_type": "markdown",
   "metadata": {},
   "source": [
    "<a id=\"explainability\"></a>\n",
    "## 4. Explainability"
   ]
  },
  {
   "cell_type": "markdown",
   "metadata": {},
   "source": [
    "### 4.1 Configure Explainability"
   ]
  },
  {
   "cell_type": "code",
   "execution_count": 54,
   "metadata": {},
   "outputs": [],
   "source": [
    "subscription.explainability.enable()"
   ]
  },
  {
   "cell_type": "code",
   "execution_count": 55,
   "metadata": {},
   "outputs": [
    {
     "data": {
      "text/plain": [
       "{'enabled': True}"
      ]
     },
     "execution_count": 55,
     "metadata": {},
     "output_type": "execute_result"
    }
   ],
   "source": [
    "subscription.explainability.get_details()"
   ]
  },
  {
   "cell_type": "markdown",
   "metadata": {},
   "source": [
    "### 4.2 Get explanation for the transaction"
   ]
  },
  {
   "cell_type": "markdown",
   "metadata": {},
   "source": [
    "**Explaining image model transactions**\n",
    "\n",
    "For an image classification model example of explainability, you can see which parts of an image contributed positively to the predicted outcome and which contributed negatively. In the following example, the image in the positive pane shows the parts which impacted positively to the prediction and the image in the negative pane shows the parts of images that had a negative impact on the outcome.\n",
    "\n",
    "If you get an error in the next cell..... something ending by KeyError: 'cem_state' .....\n",
    "\n",
    "it's a bug :( in the library, but still you can collect see the result by retrieving the transaction_id from the upper cell\n",
    "\n",
    "```\n",
    "transaction_id = subscription.payload_logging.get_table_content().scoring_id[0]\n",
    "transaction_id\n",
    "```\n",
    "\n",
    "then open the following webpage and paste the transaction_id and search for it, you will see the result of the image model explainability.\n",
    "\n",
    "https://aiopenscale.cloud.ibm.com/aiopenscale/explain\n"
   ]
  },
  {
   "cell_type": "code",
   "execution_count": 76,
   "metadata": {},
   "outputs": [
    {
     "name": "stdout",
     "output_type": "stream",
     "text": [
      "\n",
      "\n",
      "================================================================\n",
      "\n",
      " Looking for explanation for fb6a38ba7d6d460682a3c40d9827ee70-1 \n",
      "\n",
      "================================================================\n",
      "\n",
      "\n",
      "\n",
      "finished\n",
      "\n",
      "---------------------------\n",
      " Successfully finished run \n",
      "---------------------------\n",
      "\n",
      "\n"
     ]
    }
   ],
   "source": [
    "explanation = 0\n",
    "try :\n",
    "    explanation = subscription.explainability.run(transaction_id, background_mode=False,cem=False)\n",
    "    RunID = explanation[\"metadata\"][\"id\"]\n",
    "except:\n",
    "  print(\"Something went wrong\")\n",
    "  explanation = {\n",
    "    \"entity\": {\n",
    "        \"asset\": {\n",
    "            \"deployment\": {\n",
    "                \"id\": \"97c65a3c-f332-4144-80c6-6cca6a6433c8\",\n",
    "                \"name\": \"FER-Model-HDF5 Deployment\"\n",
    "            },\n",
    "            \"id\": \"13ad79e4-0672-457d-a03b-60667e8fddc5\",\n",
    "            \"name\": \"FER-Model-HDF5\",\n",
    "            \"type\": \"image\"\n",
    "        },\n",
    "        \"explanation_type\": \"lime\",\n",
    "        \"input_features\": [\n",
    "            {\n",
    "                \"full_image\": \"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\",\n",
    "                \"total_features\": 5,\n",
    "                \"used_features\": 2\n",
    "            }\n",
    "        ],\n",
    "        \"predictions\": [\n",
    "            {\n",
    "                \"explanation\": [\n",
    "                    {\n",
    "                        \"full_image\": \"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\",\n",
    "                        \"total_features\": 4,\n",
    "                        \"used_features\": 1\n",
    "                    }\n",
    "                ],\n",
    "                \"probability\": 0.8861939907073975,\n",
    "                \"value\": \"positive\"\n",
    "            },\n",
    "            {\n",
    "                \"explanation\": [\n",
    "                    {\n",
    "                        \"full_image\": \"iVBORw0KGgoAAAANSUhEUgAAAEAAAABACAIAAAAlC+aJAAACVklEQVR42u2YMa4qMQxF48SZGZBokCgfDT0rm4aKjbACCtgAoqUEISREgwbBEmiRCGSSX/jhF73f/5l85RSIguJe+9qOECKRSCQSiUQikUgkEolEIpFIJBKJfw1EqruqKu+9915GasB/SAaaM0BfZLzj+590AKMuf9wRivUOXC4Xa21d11F24Ha7ke5YtxAAcPrjM3C9Xik5oYH4thDf4MgMVFXlnPPe8ycAxGSA0k8Rcs5RK5xzcazR8/nMiuu6piYQrTZwOByyLOMOCCFIPR+BVhvY7/eIKISQUnKEXEB7L/F2u5VSAgBJ5/ILIUg6j0F7h5gSUtc1FR4A+ITxAJCr1nVgs9kAAEX/W+Kn/Jz7tq9RRKTah+rpC4enpRFar9fv99t7j4g/zzUpvxfOZ45bOgOLxUIIYa1VSpE+jj5PcLiI2rWFyrK01g6Hw6+vr36/XxSFUorVkxPqA5+CFt2B6XR6v99Ho9FgMJBSZgGIqLWmlQoAzjlrbXjLmjcwmUyMMePxuNvtSikRERFJvdZaa80bk58SYRNa0YHlcimEUEqR9E6nQ9IRkW8ZL9DX62WMeb1e1IrGDMxms7Is5/N5lmV5nud5LqXUWhdFQU3QWtMYhOqp9tZaY8zj8TDGNLaFer3earVCRKUU1Z4MZFkGAORBKcXbk7YQLSj6PfBoN8tutyMlSimeV1L/d374OU19eD6fDd+B4/HIW5ICQ7oBfurLh4xeR79OdTMGTqdT2HyqOsEGKD+/3kKUN75i3vtmDNBDn+tKukMbXPvwD4gw8/yw+wNkG/YuBJwSAQAAAABJRU5ErkJggg==\",\n",
    "                        \"total_features\": 1,\n",
    "                        \"used_features\": 1\n",
    "                    }\n",
    "                ],\n",
    "                \"probability\": 0.11380600929260254,\n",
    "                \"value\": \"negative\"\n",
    "            }\n",
    "        ],\n",
    "        \"status\": {\n",
    "            \"state\": \"finished\"\n",
    "        }\n",
    "    },\n",
    "    \"metadata\": {\n",
    "        \"created_at\": \"2019-10-16 20:44:37.523929\",\n",
    "        \"created_by\": \"IBMid-060000N88N\",\n",
    "        \"id\": \"6ccdf227-a08b-46ab-8a63-755bbc7d3b32\",\n",
    "        \"updated_at\": \"2019-10-16 20:45:21.251892\"\n",
    "    }\n",
    "}\n",
    "  "
   ]
  },
  {
   "cell_type": "code",
   "execution_count": 77,
   "metadata": {},
   "outputs": [],
   "source": [
    "# while explanation[\"entity\"][\"status\"][\"state\"] == \"in_progress\":\n",
    "#     Wait(5)\n",
    "#     explanation = subscription.explainability.get_run_details(RunID)"
   ]
  },
  {
   "cell_type": "code",
   "execution_count": 78,
   "metadata": {
    "scrolled": false
   },
   "outputs": [
    {
     "name": "stdout",
     "output_type": "stream",
     "text": [
      "{\n",
      "    \"entity\": {\n",
      "        \"asset\": {\n",
      "            \"deployment\": {\n",
      "                \"id\": \"8c75c216-fbaa-422a-a3a7-6daa8a90fc2c\",\n",
      "                \"name\": \"FER-Model-HDF5 Deployment\"\n",
      "            },\n",
      "            \"id\": \"e54b4319-e18e-419f-bf70-85331d592327\",\n",
      "            \"name\": \"FER-Model-HDF5\",\n",
      "            \"type\": \"image\"\n",
      "        },\n",
      "        \"explanation_type\": \"lime\",\n",
      "        \"input_features\": [\n",
      "            {\n",
      "                \"full_image\": \"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\",\n",
      "                \"total_features\": 5,\n",
      "                \"used_features\": 2\n",
      "            }\n",
      "        ],\n",
      "        \"predictions\": [\n",
      "            {\n",
      "                \"explanation\": [\n",
      "                    {\n",
      "                        \"full_image\": \"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\",\n",
      "                        \"total_features\": 4,\n",
      "                        \"used_features\": 1\n",
      "                    }\n",
      "                ],\n",
      "                \"probability\": 0.8861942291259766,\n",
      "                \"value\": \"positive\"\n",
      "            },\n",
      "            {\n",
      "                \"explanation\": [\n",
      "                    {\n",
      "                        \"full_image\": \"iVBORw0KGgoAAAANSUhEUgAAAEAAAABACAIAAAAlC+aJAAACVklEQVR42u2YMa4qMQxF48SZGZBokCgfDT0rm4aKjbACCtgAoqUEISREgwbBEmiRCGSSX/jhF73f/5l85RSIguJe+9qOECKRSCQSiUQikUgkEolEIpFIJBKJfw1EqruqKu+9915GasB/SAaaM0BfZLzj+590AKMuf9wRivUOXC4Xa21d11F24Ha7ke5YtxAAcPrjM3C9Xik5oYH4thDf4MgMVFXlnPPe8ycAxGSA0k8Rcs5RK5xzcazR8/nMiuu6piYQrTZwOByyLOMOCCFIPR+BVhvY7/eIKISQUnKEXEB7L/F2u5VSAgBJ5/ILIUg6j0F7h5gSUtc1FR4A+ITxAJCr1nVgs9kAAEX/W+Kn/Jz7tq9RRKTah+rpC4enpRFar9fv99t7j4g/zzUpvxfOZ45bOgOLxUIIYa1VSpE+jj5PcLiI2rWFyrK01g6Hw6+vr36/XxSFUorVkxPqA5+CFt2B6XR6v99Ho9FgMJBSZgGIqLWmlQoAzjlrbXjLmjcwmUyMMePxuNvtSikRERFJvdZaa80bk58SYRNa0YHlcimEUEqR9E6nQ9IRkW8ZL9DX62WMeb1e1IrGDMxms7Is5/N5lmV5nud5LqXUWhdFQU3QWtMYhOqp9tZaY8zj8TDGNLaFer3earVCRKUU1Z4MZFkGAORBKcXbk7YQLSj6PfBoN8tutyMlSimeV1L/d374OU19eD6fDd+B4/HIW5ICQ7oBfurLh4xeR79OdTMGTqdT2HyqOsEGKD+/3kKUN75i3vtmDNBDn+tKukMbXPvwD4gw8/yw+wNkG/YuBJwSAQAAAABJRU5ErkJggg==\",\n",
      "                        \"total_features\": 1,\n",
      "                        \"used_features\": 1\n",
      "                    }\n",
      "                ],\n",
      "                \"probability\": 0.11380577087402344,\n",
      "                \"value\": \"negative\"\n",
      "            }\n",
      "        ],\n",
      "        \"status\": {\n",
      "            \"state\": \"finished\"\n",
      "        }\n",
      "    },\n",
      "    \"metadata\": {\n",
      "        \"created_at\": \"2019-11-19T21:00:33.696084Z\",\n",
      "        \"created_by\": \"IBMid-060000N88N\",\n",
      "        \"id\": \"0b0ea5e3-cc95-4184-96ec-96d1bf053240\",\n",
      "        \"updated_at\": \"2019-11-19T21:00:36.053447Z\"\n",
      "    }\n",
      "}\n"
     ]
    }
   ],
   "source": [
    "import json\n",
    "print (json.dumps(explanation,  sort_keys=True, indent=4))"
   ]
  },
  {
   "cell_type": "markdown",
   "metadata": {},
   "source": [
    "### The explanation images can be obtained using the cells below"
   ]
  },
  {
   "cell_type": "code",
   "execution_count": 79,
   "metadata": {
    "scrolled": true
   },
   "outputs": [
    {
     "name": "stdout",
     "output_type": "stream",
     "text": [
      "Requirement already satisfied: Pillow in /opt/conda/envs/Python36/lib/python3.6/site-packages (5.4.1)\r\n"
     ]
    },
    {
     "data": {
      "image/png": "[encoded data removed]",
      "text/plain": [
       "<PIL.Image.Image image mode=RGBA size=128x128 at 0x7F8805517D68>"
      ]
     },
     "metadata": {},
     "output_type": "display_data"
    }
   ],
   "source": [
    "!pip install Pillow\n",
    "from PIL import Image\n",
    "import base64\n",
    "import io\n",
    "\n",
    "imgOrigin = explanation[\"entity\"][\"input_features\"][0][\"full_image\"]\n",
    "img_data = base64.b64decode(imgOrigin)\n",
    "OriginPic = Image.open(io.BytesIO(img_data)).resize((128, 128)).convert('RGBA')\n",
    "display(OriginPic)"
   ]
  },
  {
   "cell_type": "code",
   "execution_count": 80,
   "metadata": {},
   "outputs": [
    {
     "data": {
      "image/png": "[encoded data removed]",
      "text/plain": [
       "<PIL.Image.Image image mode=RGBA size=128x128 at 0x7F8805517AC8>"
      ]
     },
     "metadata": {},
     "output_type": "display_data"
    }
   ],
   "source": [
    "img = explanation[\"entity\"][\"predictions\"][0][\"explanation\"][0][\"full_image\"]\n",
    "img_data = base64.b64decode(img)\n",
    "ExpPic = Image.open(io.BytesIO(img_data)).resize((128, 128)).convert('RGBA')\n",
    "display(ExpPic)"
   ]
  },
  {
   "cell_type": "code",
   "execution_count": 81,
   "metadata": {},
   "outputs": [],
   "source": [
    "Background = ExpPic.convert('RGBA')\n",
    "\n",
    "# \"data\" is a height x width x 4 numpy array\n",
    "data = np.array(Background)\n",
    "\n",
    "# Temporarily unpack the bands for readability\n",
    "red, green, blue, alpha = data.T \n",
    "\n",
    "# Replace white with red... (leaves alpha values alone...)\n",
    "white_areas = (red != 0) | (blue != 0) | (green != 0)\n",
    "data[..., :-1][white_areas.T] = (255, 0, 255) # Transpose back needed\n",
    "\n",
    "Background = Image.fromarray(data)"
   ]
  },
  {
   "cell_type": "code",
   "execution_count": 82,
   "metadata": {},
   "outputs": [
    {
     "data": {
      "image/png": "[encoded data removed]",
      "text/plain": [
       "<PIL.Image.Image image mode=RGBA size=256x256 at 0x7F8804C0C940>"
      ]
     },
     "execution_count": 82,
     "metadata": {},
     "output_type": "execute_result"
    }
   ],
   "source": [
    "Image.blend(Background, OriginPic,alpha=0.7).resize((256,256))"
   ]
  },
  {
   "cell_type": "code",
   "execution_count": null,
   "metadata": {},
   "outputs": [],
   "source": [
    "wml_client.repository.delete(model_uid)\n",
    "deployment_id = wml_client.deployments.get_uid(deployment)\n",
    "wml_client.deployments.delete(deployment_id)"
   ]
  }
 ],
 "metadata": {
  "kernelspec": {
   "display_name": "Python 3.6",
   "language": "python",
   "name": "python3"
  },
  "language_info": {
   "codemirror_mode": {
    "name": "ipython",
    "version": 3
   },
   "file_extension": ".py",
   "mimetype": "text/x-python",
   "name": "python",
   "nbconvert_exporter": "python",
   "pygments_lexer": "ipython3",
   "version": "3.6.8"
  }
 },
 "nbformat": 4,
 "nbformat_minor": 2
}
